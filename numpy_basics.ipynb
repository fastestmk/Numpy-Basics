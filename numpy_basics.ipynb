{
  "nbformat": 4,
  "nbformat_minor": 0,
  "metadata": {
    "kernelspec": {
      "display_name": "Python 3",
      "language": "python",
      "name": "python3"
    },
    "language_info": {
      "codemirror_mode": {
        "name": "ipython",
        "version": 3
      },
      "file_extension": ".py",
      "mimetype": "text/x-python",
      "name": "python",
      "nbconvert_exporter": "python",
      "pygments_lexer": "ipython3",
      "version": "3.8.5"
    },
    "colab": {
      "name": "numpy_basics.ipynb",
      "provenance": [],
      "include_colab_link": true
    }
  },
  "cells": [
    {
      "cell_type": "markdown",
      "metadata": {
        "id": "view-in-github",
        "colab_type": "text"
      },
      "source": [
        "<a href=\"https://colab.research.google.com/github/fastestmk/Numpy-Basics/blob/main/numpy_basics.ipynb\" target=\"_parent\"><img src=\"https://colab.research.google.com/assets/colab-badge.svg\" alt=\"Open In Colab\"/></a>"
      ]
    },
    {
      "cell_type": "code",
      "metadata": {
        "id": "WZAt4_VKbl7x"
      },
      "source": [
        "import numpy as np"
      ],
      "execution_count": null,
      "outputs": []
    },
    {
      "cell_type": "code",
      "metadata": {
        "id": "_UVz0kjRbl74",
        "outputId": "a64e1ef7-f4ed-430a-ffc8-2ecb78ecfd26"
      },
      "source": [
        "a = np.array([1,2,3])\n",
        "\n",
        "print(a, type(a), a.shape)"
      ],
      "execution_count": null,
      "outputs": [
        {
          "output_type": "stream",
          "text": [
            "[1 2 3] <class 'numpy.ndarray'> (3,)\n"
          ],
          "name": "stdout"
        }
      ]
    },
    {
      "cell_type": "code",
      "metadata": {
        "id": "c6O8RDqEbl7-",
        "outputId": "9a5a5213-c9b2-4ad2-edf3-bb54a7df3fa3"
      },
      "source": [
        "b = np.array([[1,2,3],[4,5,6]])\n",
        "\n",
        "print(b)\n",
        "print(b[0,0], b[0,1], b[1,2])"
      ],
      "execution_count": null,
      "outputs": [
        {
          "output_type": "stream",
          "text": [
            "[[1 2 3]\n",
            " [4 5 6]]\n",
            "1 2 6\n"
          ],
          "name": "stdout"
        }
      ]
    },
    {
      "cell_type": "markdown",
      "metadata": {
        "id": "SrG584Upbl8D"
      },
      "source": [
        "Numpy also provides many functions to create arrays:"
      ]
    },
    {
      "cell_type": "code",
      "metadata": {
        "id": "9Xncit23bl8E",
        "outputId": "b3d0048c-03c9-44c7-a1f8-77de6a3c0276"
      },
      "source": [
        "a = np.zeros((1,2)) # 1 row 2 columns\n",
        "print(a)"
      ],
      "execution_count": null,
      "outputs": [
        {
          "output_type": "stream",
          "text": [
            "[[0. 0.]]\n"
          ],
          "name": "stdout"
        }
      ]
    },
    {
      "cell_type": "code",
      "metadata": {
        "id": "dlWayceebl8J",
        "outputId": "d5ae6689-b382-4938-9f2e-f44c013e6885"
      },
      "source": [
        "b = np.ones((1,3)) # 1 row 3 columns\n",
        "print(b)"
      ],
      "execution_count": null,
      "outputs": [
        {
          "output_type": "stream",
          "text": [
            "[[1. 1. 1.]]\n"
          ],
          "name": "stdout"
        }
      ]
    },
    {
      "cell_type": "code",
      "metadata": {
        "id": "LGBe2zOlbl8O",
        "outputId": "6db01138-2fea-417b-c883-7218a5a33c6b"
      },
      "source": [
        "c = np.full((2,2), 5) \n",
        "print(c)"
      ],
      "execution_count": null,
      "outputs": [
        {
          "output_type": "stream",
          "text": [
            "[[5 5]\n",
            " [5 5]]\n"
          ],
          "name": "stdout"
        }
      ]
    },
    {
      "cell_type": "code",
      "metadata": {
        "id": "e9G58uJWbl8V",
        "outputId": "ba23e800-c9ab-497a-9343-aaddddb63df8"
      },
      "source": [
        "d = np.eye(3) # identity matrix\n",
        "print(d)"
      ],
      "execution_count": null,
      "outputs": [
        {
          "output_type": "stream",
          "text": [
            "[[1. 0. 0.]\n",
            " [0. 1. 0.]\n",
            " [0. 0. 1.]]\n"
          ],
          "name": "stdout"
        }
      ]
    },
    {
      "cell_type": "code",
      "metadata": {
        "id": "mk7DETypbl8e",
        "outputId": "4c015a38-5886-445c-94c8-97836cd43955"
      },
      "source": [
        "e = np.random.random((2,3))\n",
        "print(e)"
      ],
      "execution_count": null,
      "outputs": [
        {
          "output_type": "stream",
          "text": [
            "[[0.46885649 0.82249126 0.02365916]\n",
            " [0.50011573 0.61499959 0.48775385]]\n"
          ],
          "name": "stdout"
        }
      ]
    },
    {
      "cell_type": "markdown",
      "metadata": {
        "id": "hN0mwHV1bl8n"
      },
      "source": [
        "#Indexing in numpy"
      ]
    },
    {
      "cell_type": "code",
      "metadata": {
        "id": "4pvKOnRSbl8o",
        "outputId": "2fe7e631-8489-4490-b524-bdc8d28e97e2"
      },
      "source": [
        "a = np.array([[1,2,3,4], [5,6,7,8], [9,10,11,12]])\n",
        "b = a[:2, 1:3] # slice first two elements of first row and 2 to 3 index of second row\n",
        "print(b)\n",
        "\n",
        "print(a[0,1])\n",
        "b[0,0] = 77 # A slice of an array is a view into the same data, so modifying it will modify the original array.\n",
        "print(a[0,1])\n",
        "print(a)"
      ],
      "execution_count": null,
      "outputs": [
        {
          "output_type": "stream",
          "text": [
            "[[2 3]\n",
            " [6 7]]\n",
            "2\n",
            "77\n",
            "[[ 1 77  3  4]\n",
            " [ 5  6  7  8]\n",
            " [ 9 10 11 12]]\n"
          ],
          "name": "stdout"
        }
      ]
    },
    {
      "cell_type": "code",
      "metadata": {
        "id": "xPlZsk_Fbl8u",
        "outputId": "6b2495e9-8827-4f7f-8550-1a5109082905"
      },
      "source": [
        "a = np.array([[1,2,3,4], [5,6,7,8], [9,10,11,12]])\n",
        "print(a)\n",
        "\n",
        "row_r1 = a[0, :] # first row\n",
        "row_r2 = a[1, :] # second row\n",
        "row_r3 = a[1:2, :] # second row in 2-D matrix\n",
        "row_r4 = a[[1], :] # second row in 2-D matrix\n",
        "print(row_r1, row_r1.shape)\n",
        "print(row_r2, row_r2.shape)\n",
        "print(row_r3, row_r3.shape)\n",
        "print(row_r4, row_r4.shape)"
      ],
      "execution_count": null,
      "outputs": [
        {
          "output_type": "stream",
          "text": [
            "[[ 1  2  3  4]\n",
            " [ 5  6  7  8]\n",
            " [ 9 10 11 12]]\n",
            "[1 2 3 4] (4,)\n",
            "[5 6 7 8] (4,)\n",
            "[[5 6 7 8]] (1, 4)\n",
            "[[5 6 7 8]] (1, 4)\n"
          ],
          "name": "stdout"
        }
      ]
    },
    {
      "cell_type": "code",
      "metadata": {
        "id": "uOYVhYtibl80",
        "outputId": "1e63f8d5-e95c-4aef-d7d3-c1e0548af026"
      },
      "source": [
        "a = np.array([[1,2,3,4], [5,6,7,8], [9,10,11,12]])\n",
        "print(a)\n",
        "\n",
        "col_r1 = a[:, 1] # second column\n",
        "col_r2 = a[:, 1:2]\n",
        "col_r3 = a[:, [1]]\n",
        "\n",
        "print(col_r1, col_r1.shape)\n",
        "print(col_r2, col_r2.shape)\n",
        "print(col_r3, col_r3.shape)"
      ],
      "execution_count": null,
      "outputs": [
        {
          "output_type": "stream",
          "text": [
            "[[ 1  2  3  4]\n",
            " [ 5  6  7  8]\n",
            " [ 9 10 11 12]]\n",
            "[ 2  6 10] (3,)\n",
            "[[ 2]\n",
            " [ 6]\n",
            " [10]] (3, 1)\n",
            "[[ 2]\n",
            " [ 6]\n",
            " [10]] (3, 1)\n"
          ],
          "name": "stdout"
        }
      ]
    },
    {
      "cell_type": "markdown",
      "metadata": {
        "id": "nmncVPGWbl85"
      },
      "source": [
        "#Integer array indexing: When you index into numpy arrays using slicing, the resulting array view will always be a subarray of the original array. In contrast, integer array indexing allows you to construct arbitrary arrays using the data from another array. Here is an example:"
      ]
    },
    {
      "cell_type": "code",
      "metadata": {
        "id": "3PLZSe0Pbl86",
        "outputId": "bab402c2-a236-42f9-cd8b-05b8506b1375"
      },
      "source": [
        "a = np.array([[1,2], [3, 4], [5, 6]])\n",
        "print(a[[0,1,2], [0,1,0]])\n",
        "print(np.array([a[0,0], a[1,1], a[2,0]]))\n"
      ],
      "execution_count": null,
      "outputs": [
        {
          "output_type": "stream",
          "text": [
            "[1 4 5]\n",
            "[1 4 5]\n"
          ],
          "name": "stdout"
        }
      ]
    },
    {
      "cell_type": "markdown",
      "metadata": {
        "id": "9L5epOm9bl8-"
      },
      "source": [
        "# One useful trick with integer array indexing is selecting or mutating one element from each row of a matrix:"
      ]
    },
    {
      "cell_type": "code",
      "metadata": {
        "id": "qPJ5-DZObl8_",
        "outputId": "f8827e32-4e02-4022-d664-c3f4ba94113c"
      },
      "source": [
        "a = np.array([[1,2,3], [4,5,6], [7,8,9], [10, 11, 12]])\n",
        "print(a)\n",
        "\n",
        "b = [0, 2, 1, 2] # contains indexes\n",
        "\n",
        "# Select one element from each row of a using the indices in b\n",
        "print(a[np.arange(4), b]) # refer to cell 39, 2nd line\n",
        "\n",
        "\n",
        "# Mutate one element from each row of a using the indices in b\n",
        "a[np.arange(4), b] += 10\n",
        "print(a)"
      ],
      "execution_count": null,
      "outputs": [
        {
          "output_type": "stream",
          "text": [
            "[[ 1  2  3]\n",
            " [ 4  5  6]\n",
            " [ 7  8  9]\n",
            " [10 11 12]]\n",
            "[ 1  6  8 12]\n",
            "[[11  2  3]\n",
            " [ 4  5 16]\n",
            " [ 7 18  9]\n",
            " [10 11 22]]\n"
          ],
          "name": "stdout"
        }
      ]
    },
    {
      "cell_type": "markdown",
      "metadata": {
        "id": "pUXkc3Cobl9F"
      },
      "source": [
        "#Boolean array indexing: Boolean array indexing lets you pick out arbitrary elements of an array. Frequently this type of indexing is used to select the elements of an array that satisfy some condition. Here is an example:"
      ]
    },
    {
      "cell_type": "code",
      "metadata": {
        "id": "f1L4-FOAbl9G",
        "outputId": "56f96898-9056-4bed-a311-83def0c8c0a9"
      },
      "source": [
        "a = np.array([[1,2], [3, 4], [5, 6]])\n",
        "bool_indx = (a > 2)\n",
        "print(bool_indx)\n",
        "print(a[bool_indx])\n",
        "print(a[a>2]) # in one line"
      ],
      "execution_count": null,
      "outputs": [
        {
          "output_type": "stream",
          "text": [
            "[[False False]\n",
            " [ True  True]\n",
            " [ True  True]]\n",
            "[3 4 5 6]\n",
            "[3 4 5 6]\n"
          ],
          "name": "stdout"
        }
      ]
    },
    {
      "cell_type": "markdown",
      "metadata": {
        "id": "0IDbw6vybl9K"
      },
      "source": [
        "# Datatypes:"
      ]
    },
    {
      "cell_type": "code",
      "metadata": {
        "id": "t8dbN_vebl9K",
        "outputId": "88c4c677-0bea-42e9-ab4f-a041cd54b278"
      },
      "source": [
        "x = np.array([1, 2])  # Let numpy choose the datatype\n",
        "y = np.array([1.0, 2.0])  # Let numpy choose the datatype\n",
        "z = np.array([1,2], dtype=np.int64)  # Force a particular datatype\n",
        "print(x.dtype, y.dtype, z.dtype)"
      ],
      "execution_count": null,
      "outputs": [
        {
          "output_type": "stream",
          "text": [
            "int64 float64 int64\n"
          ],
          "name": "stdout"
        }
      ]
    },
    {
      "cell_type": "markdown",
      "metadata": {
        "id": "BttGhTXmbl9O"
      },
      "source": [
        "# Array Math"
      ]
    },
    {
      "cell_type": "code",
      "metadata": {
        "id": "GNi17EB-bl9P",
        "outputId": "a5849b1e-c29a-49bd-b56b-645287837365"
      },
      "source": [
        "x = np.array([[1,2],[3,4]], dtype=np.float64)\n",
        "y = np.array([[5,6],[7,8]], dtype=np.float64)\n",
        "\n",
        "print(x+y)\n",
        "print(np.add(x,y))\n",
        "\n",
        "print(x-y)\n",
        "print(np.subtract(x,y))\n",
        "\n",
        "print(x*y)\n",
        "print(np.multiply(x,y))\n",
        "\n",
        "print(x/y)\n",
        "print(np.divide(x,y))\n",
        "\n",
        "print(np.sqrt(x))\n",
        "\n"
      ],
      "execution_count": null,
      "outputs": [
        {
          "output_type": "stream",
          "text": [
            "[[ 6.  8.]\n",
            " [10. 12.]]\n",
            "[[ 6.  8.]\n",
            " [10. 12.]]\n",
            "[[-4. -4.]\n",
            " [-4. -4.]]\n",
            "[[-4. -4.]\n",
            " [-4. -4.]]\n",
            "[[ 5. 12.]\n",
            " [21. 32.]]\n",
            "[[ 5. 12.]\n",
            " [21. 32.]]\n",
            "[[0.2        0.33333333]\n",
            " [0.42857143 0.5       ]]\n",
            "[[0.2        0.33333333]\n",
            " [0.42857143 0.5       ]]\n",
            "[[1.         1.41421356]\n",
            " [1.73205081 2.        ]]\n"
          ],
          "name": "stdout"
        }
      ]
    },
    {
      "cell_type": "markdown",
      "metadata": {
        "id": "nVGlTrwlbl9T"
      },
      "source": [
        "# Dot product or matrix multiplication"
      ]
    },
    {
      "cell_type": "code",
      "metadata": {
        "id": "eJe-G_hAbl9U",
        "outputId": "721f952b-c6ad-4d50-d92e-f9c3064cb35f"
      },
      "source": [
        "x = np.array([[1,2],[3,4]])\n",
        "y = np.array([[5,6],[7,8]])\n",
        "\n",
        "v = np.array([9,10])\n",
        "w = np.array([11, 12])\n",
        "\n",
        "print(v.dot(w))\n",
        "print(np.dot(v,w))\n",
        "print(v@w)\n",
        "\n",
        "print(x.dot(w)) # dot product of 2 by 2 matrix and 1 by 1 will 2 by 1\n",
        "print(np.dot(x,w))\n",
        "print(x@w)\n",
        "\n",
        "print(x.dot(y))"
      ],
      "execution_count": null,
      "outputs": [
        {
          "output_type": "stream",
          "text": [
            "219\n",
            "219\n",
            "219\n",
            "[35 81]\n",
            "[35 81]\n",
            "[35 81]\n",
            "[[19 22]\n",
            " [43 50]]\n"
          ],
          "name": "stdout"
        }
      ]
    },
    {
      "cell_type": "markdown",
      "metadata": {
        "id": "S1SbN2ZUbl9Z"
      },
      "source": [
        "#Numpy provides many useful functions for performing computations on arrays; one of the most useful is sum: "
      ]
    },
    {
      "cell_type": "code",
      "metadata": {
        "id": "XSMnu5qgbl9a",
        "outputId": "6d25b557-259c-40bc-e4f3-9fdf0fb18c29"
      },
      "source": [
        "x = np.array([[1,2],[3,4]])\n",
        "y = np.array([[1,2,3],[3,4,5]])\n",
        "z = np.array([[1,2,3],[3,4,5],[4,3,2]])\n",
        "print(np.sum(x))\n",
        "print(np.sum(x, axis=0))  # Compute sum of each column; prints \"[4 6]\"\n",
        "print(np.sum(x, axis=1))  # Compute sum of each row; prints \"[3 7]\"\n",
        "\n",
        "print(np.sum(y, axis=0))\n",
        "print(np.sum(y, axis=1))\n",
        "\n",
        "print(np.sum(z, axis=1))\n",
        "\n",
        "#Transpose\n",
        "print(x.T)\n",
        "print(y.T)"
      ],
      "execution_count": null,
      "outputs": [
        {
          "output_type": "stream",
          "text": [
            "10\n",
            "[4 6]\n",
            "[3 7]\n",
            "[4 6 8]\n",
            "[ 6 12]\n",
            "[ 6 12  9]\n",
            "[[1 3]\n",
            " [2 4]]\n",
            "[[1 3]\n",
            " [2 4]\n",
            " [3 5]]\n"
          ],
          "name": "stdout"
        }
      ]
    },
    {
      "cell_type": "markdown",
      "metadata": {
        "id": "rR9d1Rnmbl9e"
      },
      "source": [
        "Broadcasting is a powerful mechanism that allows numpy to work with arrays of different shapes when performing arithmetic operations. Frequently we have a smaller array and a larger array, and we want to use the smaller array multiple times to perform some operation on the larger array.\n",
        "\n",
        "For example, suppose that we want to add a constant vector to each row of a matrix. We could do it like this:"
      ]
    },
    {
      "cell_type": "code",
      "metadata": {
        "id": "XMGUPs8zbl9f",
        "outputId": "1fec9906-3ece-439b-af7d-5e618099d0d1"
      },
      "source": [
        "x = np.array([[1,2,3], [4,5,6], [7,8,9], [10, 11, 12]])\n",
        "v = np.array([1, 0, 1])\n",
        "\n",
        "y = np.empty_like(x)\n",
        "\n",
        "for i in range(4):\n",
        "    y[i, :] = x[i, :] + v # add y array into each row of x\n",
        "\n",
        "print(y)    \n",
        "\n",
        "\n",
        "vv = np.tile(v, (4,1)) # Stack 4 copies of v on top of each other\n",
        "print(vv)\n",
        "y = x+vv\n",
        "print(y)\n",
        "\n",
        "#Numpy broadcasting allows us to perform this computation without actually creating multiple copies of v. \n",
        "#Consider this version, using broadcasting:\n",
        "print(x+v)"
      ],
      "execution_count": null,
      "outputs": [
        {
          "output_type": "stream",
          "text": [
            "[[ 2  2  4]\n",
            " [ 5  5  7]\n",
            " [ 8  8 10]\n",
            " [11 11 13]]\n",
            "[[1 0 1]\n",
            " [1 0 1]\n",
            " [1 0 1]\n",
            " [1 0 1]]\n",
            "[[ 2  2  4]\n",
            " [ 5  5  7]\n",
            " [ 8  8 10]\n",
            " [11 11 13]]\n",
            "[[ 2  2  4]\n",
            " [ 5  5  7]\n",
            " [ 8  8 10]\n",
            " [11 11 13]]\n"
          ],
          "name": "stdout"
        }
      ]
    },
    {
      "cell_type": "markdown",
      "metadata": {
        "id": "RrnMTXoGbl9j"
      },
      "source": [
        "# Reshape matrices"
      ]
    },
    {
      "cell_type": "code",
      "metadata": {
        "id": "4_SFt0pYbl9j",
        "outputId": "f1299abc-1021-4066-ebec-09e0380a3349"
      },
      "source": [
        "v = np.array([1,2,3])  # v has shape (3,)\n",
        "w = np.array([4,5]) \n",
        "\n",
        "z = np.reshape(v, (3,1))*w\n",
        "print(z)"
      ],
      "execution_count": null,
      "outputs": [
        {
          "output_type": "stream",
          "text": [
            "[[ 4  5]\n",
            " [ 8 10]\n",
            " [12 15]]\n"
          ],
          "name": "stdout"
        }
      ]
    },
    {
      "cell_type": "code",
      "metadata": {
        "id": "iCRgOKRTbl9n"
      },
      "source": [
        ""
      ],
      "execution_count": null,
      "outputs": []
    }
  ]
}